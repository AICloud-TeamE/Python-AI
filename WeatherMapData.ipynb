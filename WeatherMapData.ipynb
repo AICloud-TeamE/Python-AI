{
 "cells": [
  {
   "cell_type": "markdown",
   "id": "45e1c8e9",
   "metadata": {},
   "source": [
    "### ウェザーデータを獲得する"
   ]
  },
  {
   "cell_type": "code",
   "execution_count": 7,
   "id": "60ad3310",
   "metadata": {},
   "outputs": [
    {
     "name": "stdout",
     "output_type": "stream",
     "text": [
      "经度：139.7638947, 纬度：35.6768601\n"
     ]
    }
   ],
   "source": [
    "import requests\n",
    "\n",
    "# 你的 OpenWeather API Key\n",
    "API_KEY = \"4c90f7b876a2f86509856f59409ffc33\"\n",
    "\n",
    "# 要转换的地址\n",
    "address = \"Tokyo, Japan\"\n",
    "\n",
    "# 调用地理编码接口\n",
    "geo_url = \"http://api.openweathermap.org/geo/1.0/direct\"\n",
    "params = {\n",
    "    \"q\": address,\n",
    "    \"limit\": 1,        # 最多返回 1 条匹配\n",
    "    \"appid\": API_KEY\n",
    "}\n",
    "\n",
    "resp = requests.get(geo_url, params=params)\n",
    "resp.raise_for_status()       # 有错误会抛异常\n",
    "data = resp.json()\n",
    "\n",
    "if data:\n",
    "    lat1 = data[0][\"lat\"]\n",
    "    lon1 = data[0][\"lon\"]\n",
    "    print(f\"经度：{lon}, 纬度：{lat}\")\n",
    "else:\n",
    "    print(\"没有找到对应的经纬度，请检查地址拼写或调整查询范围。\")\n"
   ]
  },
  {
   "cell_type": "code",
   "execution_count": 9,
   "id": "ed86860e",
   "metadata": {},
   "outputs": [
    {
     "ename": "HTTPError",
     "evalue": "401 Client Error: Unauthorized for url: https://history.openweathermap.org/data/2.5/history/city?lat=35.6768601&lon=139.7638947&type=hour&start=1711897200&end=1711983600&appid=4c90f7b876a2f86509856f59409ffc33&units=metric&lang=zh_cn",
     "output_type": "error",
     "traceback": [
      "\u001b[31m---------------------------------------------------------------------------\u001b[39m",
      "\u001b[31mHTTPError\u001b[39m                                 Traceback (most recent call last)",
      "\u001b[36mCell\u001b[39m\u001b[36m \u001b[39m\u001b[32mIn[9]\u001b[39m\u001b[32m, line 24\u001b[39m\n\u001b[32m     12\u001b[39m params = {\n\u001b[32m     13\u001b[39m     \u001b[33m\"\u001b[39m\u001b[33mlat\u001b[39m\u001b[33m\"\u001b[39m: lat,\n\u001b[32m     14\u001b[39m     \u001b[33m\"\u001b[39m\u001b[33mlon\u001b[39m\u001b[33m\"\u001b[39m: lon,\n\u001b[32m   (...)\u001b[39m\u001b[32m     20\u001b[39m     \u001b[33m\"\u001b[39m\u001b[33mlang\u001b[39m\u001b[33m\"\u001b[39m: \u001b[33m\"\u001b[39m\u001b[33mzh_cn\u001b[39m\u001b[33m\"\u001b[39m\n\u001b[32m     21\u001b[39m }\n\u001b[32m     23\u001b[39m resp = requests.get(url, params=params)\n\u001b[32m---> \u001b[39m\u001b[32m24\u001b[39m \u001b[43mresp\u001b[49m\u001b[43m.\u001b[49m\u001b[43mraise_for_status\u001b[49m\u001b[43m(\u001b[49m\u001b[43m)\u001b[49m\n\u001b[32m     25\u001b[39m data = resp.json()\n\u001b[32m     26\u001b[39m \u001b[38;5;28mprint\u001b[39m(data)\n",
      "\u001b[36mFile \u001b[39m\u001b[32mc:\\Users\\Admin\\miniconda3\\envs\\general\\Lib\\site-packages\\requests\\models.py:1026\u001b[39m, in \u001b[36mResponse.raise_for_status\u001b[39m\u001b[34m(self)\u001b[39m\n\u001b[32m   1021\u001b[39m     http_error_msg = (\n\u001b[32m   1022\u001b[39m         \u001b[33mf\u001b[39m\u001b[33m\"\u001b[39m\u001b[38;5;132;01m{\u001b[39;00m\u001b[38;5;28mself\u001b[39m.status_code\u001b[38;5;132;01m}\u001b[39;00m\u001b[33m Server Error: \u001b[39m\u001b[38;5;132;01m{\u001b[39;00mreason\u001b[38;5;132;01m}\u001b[39;00m\u001b[33m for url: \u001b[39m\u001b[38;5;132;01m{\u001b[39;00m\u001b[38;5;28mself\u001b[39m.url\u001b[38;5;132;01m}\u001b[39;00m\u001b[33m\"\u001b[39m\n\u001b[32m   1023\u001b[39m     )\n\u001b[32m   1025\u001b[39m \u001b[38;5;28;01mif\u001b[39;00m http_error_msg:\n\u001b[32m-> \u001b[39m\u001b[32m1026\u001b[39m     \u001b[38;5;28;01mraise\u001b[39;00m HTTPError(http_error_msg, response=\u001b[38;5;28mself\u001b[39m)\n",
      "\u001b[31mHTTPError\u001b[39m: 401 Client Error: Unauthorized for url: https://history.openweathermap.org/data/2.5/history/city?lat=35.6768601&lon=139.7638947&type=hour&start=1711897200&end=1711983600&appid=4c90f7b876a2f86509856f59409ffc33&units=metric&lang=zh_cn"
     ]
    }
   ],
   "source": [
    "import requests\n",
    "import datetime\n",
    "\n",
    "API_KEY = \"4c90f7b876a2f86509856f59409ffc33\"\n",
    "lat = 35.6768601\n",
    "lon = 139.7638947\n",
    "\n",
    "# 以2024-04-01为例，获取当天0点的UNIX时间戳\n",
    "dt = int(datetime.datetime(2024, 4, 1, 0, 0).timestamp())\n",
    "\n",
    "url = \"https://history.openweathermap.org/data/2.5/history/city\"\n",
    "params = {\n",
    "    \"lat\": lat,\n",
    "    \"lon\": lon,\n",
    "    \"type\": \"hour\",\n",
    "    \"start\": dt,\n",
    "    \"end\": dt + 24*3600,\n",
    "    \"appid\": API_KEY,\n",
    "    \"units\": \"metric\",\n",
    "    \"lang\": \"zh_cn\"\n",
    "}\n",
    "\n",
    "resp = requests.get(url, params=params)\n",
    "resp.raise_for_status()\n",
    "data = resp.json()\n",
    "print(data)"
   ]
  }
 ],
 "metadata": {
  "kernelspec": {
   "display_name": "general",
   "language": "python",
   "name": "python3"
  },
  "language_info": {
   "codemirror_mode": {
    "name": "ipython",
    "version": 3
   },
   "file_extension": ".py",
   "mimetype": "text/x-python",
   "name": "python",
   "nbconvert_exporter": "python",
   "pygments_lexer": "ipython3",
   "version": "3.13.3"
  }
 },
 "nbformat": 4,
 "nbformat_minor": 5
}
